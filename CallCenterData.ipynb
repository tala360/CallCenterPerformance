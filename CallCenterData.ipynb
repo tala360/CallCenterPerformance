{
 "cells": [
  {
   "cell_type": "code",
   "execution_count": 74,
   "id": "dcbef8ff-73b6-47d1-9c05-82c5dad9afe8",
   "metadata": {},
   "outputs": [],
   "source": [
    "import pandas as pd\n",
    "import numpy as np"
   ]
  },
  {
   "cell_type": "code",
   "execution_count": 75,
   "id": "325c8929-58e8-4e5e-ba56-586401bdfb42",
   "metadata": {},
   "outputs": [],
   "source": [
    "file_path = 'Call Center Data.csv'\n",
    "data = pd.read_csv(file_path)"
   ]
  },
  {
   "cell_type": "markdown",
   "id": "5bfbc701-4adf-4c8f-a384-14b02507b00f",
   "metadata": {},
   "source": [
    "### Data Exploration (EDA)"
   ]
  },
  {
   "cell_type": "code",
   "execution_count": 76,
   "id": "9fdd42db-ac15-4ca8-9615-11a50725ca67",
   "metadata": {},
   "outputs": [
    {
     "data": {
      "text/html": [
       "<div>\n",
       "<style scoped>\n",
       "    .dataframe tbody tr th:only-of-type {\n",
       "        vertical-align: middle;\n",
       "    }\n",
       "\n",
       "    .dataframe tbody tr th {\n",
       "        vertical-align: top;\n",
       "    }\n",
       "\n",
       "    .dataframe thead th {\n",
       "        text-align: right;\n",
       "    }\n",
       "</style>\n",
       "<table border=\"1\" class=\"dataframe\">\n",
       "  <thead>\n",
       "    <tr style=\"text-align: right;\">\n",
       "      <th></th>\n",
       "      <th>Index</th>\n",
       "      <th>Incoming Calls</th>\n",
       "      <th>Answered Calls</th>\n",
       "      <th>Answer Rate</th>\n",
       "      <th>Abandoned Calls</th>\n",
       "      <th>Answer Speed (AVG)</th>\n",
       "      <th>Talk Duration (AVG)</th>\n",
       "      <th>Waiting Time (AVG)</th>\n",
       "      <th>Service Level (20 Seconds)</th>\n",
       "    </tr>\n",
       "  </thead>\n",
       "  <tbody>\n",
       "    <tr>\n",
       "      <th>0</th>\n",
       "      <td>1</td>\n",
       "      <td>217</td>\n",
       "      <td>204</td>\n",
       "      <td>94.01%</td>\n",
       "      <td>13</td>\n",
       "      <td>0:00:17</td>\n",
       "      <td>0:02:14</td>\n",
       "      <td>0:02:45</td>\n",
       "      <td>76.28%</td>\n",
       "    </tr>\n",
       "    <tr>\n",
       "      <th>1</th>\n",
       "      <td>2</td>\n",
       "      <td>200</td>\n",
       "      <td>182</td>\n",
       "      <td>91.00%</td>\n",
       "      <td>18</td>\n",
       "      <td>0:00:20</td>\n",
       "      <td>0:02:22</td>\n",
       "      <td>0:06:55</td>\n",
       "      <td>72.73%</td>\n",
       "    </tr>\n",
       "    <tr>\n",
       "      <th>2</th>\n",
       "      <td>3</td>\n",
       "      <td>216</td>\n",
       "      <td>198</td>\n",
       "      <td>91.67%</td>\n",
       "      <td>18</td>\n",
       "      <td>0:00:18</td>\n",
       "      <td>0:02:38</td>\n",
       "      <td>0:03:50</td>\n",
       "      <td>74.30%</td>\n",
       "    </tr>\n",
       "    <tr>\n",
       "      <th>3</th>\n",
       "      <td>4</td>\n",
       "      <td>155</td>\n",
       "      <td>145</td>\n",
       "      <td>93.55%</td>\n",
       "      <td>10</td>\n",
       "      <td>0:00:15</td>\n",
       "      <td>0:02:29</td>\n",
       "      <td>0:03:12</td>\n",
       "      <td>79.61%</td>\n",
       "    </tr>\n",
       "    <tr>\n",
       "      <th>4</th>\n",
       "      <td>5</td>\n",
       "      <td>37</td>\n",
       "      <td>37</td>\n",
       "      <td>100.00%</td>\n",
       "      <td>0</td>\n",
       "      <td>0:00:03</td>\n",
       "      <td>0:02:06</td>\n",
       "      <td>0:00:35</td>\n",
       "      <td>97.30%</td>\n",
       "    </tr>\n",
       "  </tbody>\n",
       "</table>\n",
       "</div>"
      ],
      "text/plain": [
       "   Index  Incoming Calls  Answered Calls Answer Rate  Abandoned Calls  \\\n",
       "0      1             217             204      94.01%               13   \n",
       "1      2             200             182      91.00%               18   \n",
       "2      3             216             198      91.67%               18   \n",
       "3      4             155             145      93.55%               10   \n",
       "4      5              37              37     100.00%                0   \n",
       "\n",
       "  Answer Speed (AVG) Talk Duration (AVG) Waiting Time (AVG)  \\\n",
       "0            0:00:17             0:02:14            0:02:45   \n",
       "1            0:00:20             0:02:22            0:06:55   \n",
       "2            0:00:18             0:02:38            0:03:50   \n",
       "3            0:00:15             0:02:29            0:03:12   \n",
       "4            0:00:03             0:02:06            0:00:35   \n",
       "\n",
       "  Service Level (20 Seconds)  \n",
       "0                     76.28%  \n",
       "1                     72.73%  \n",
       "2                     74.30%  \n",
       "3                     79.61%  \n",
       "4                     97.30%  "
      ]
     },
     "execution_count": 76,
     "metadata": {},
     "output_type": "execute_result"
    }
   ],
   "source": [
    "# Explore the first few rows of the dataset\n",
    "data.head()"
   ]
  },
  {
   "cell_type": "code",
   "execution_count": 77,
   "id": "44f3ca24-9d92-47c1-ade4-27f449920095",
   "metadata": {},
   "outputs": [
    {
     "data": {
      "text/plain": [
       "1251"
      ]
     },
     "execution_count": 77,
     "metadata": {},
     "output_type": "execute_result"
    }
   ],
   "source": [
    "len(data)"
   ]
  },
  {
   "cell_type": "code",
   "execution_count": 78,
   "id": "cd3b1fb0-7048-4490-81fc-c555f5b2fc69",
   "metadata": {},
   "outputs": [
    {
     "data": {
      "text/html": [
       "<div>\n",
       "<style scoped>\n",
       "    .dataframe tbody tr th:only-of-type {\n",
       "        vertical-align: middle;\n",
       "    }\n",
       "\n",
       "    .dataframe tbody tr th {\n",
       "        vertical-align: top;\n",
       "    }\n",
       "\n",
       "    .dataframe thead th {\n",
       "        text-align: right;\n",
       "    }\n",
       "</style>\n",
       "<table border=\"1\" class=\"dataframe\">\n",
       "  <thead>\n",
       "    <tr style=\"text-align: right;\">\n",
       "      <th></th>\n",
       "      <th>Index</th>\n",
       "      <th>Incoming Calls</th>\n",
       "      <th>Answered Calls</th>\n",
       "      <th>Abandoned Calls</th>\n",
       "    </tr>\n",
       "  </thead>\n",
       "  <tbody>\n",
       "    <tr>\n",
       "      <th>count</th>\n",
       "      <td>1251.000000</td>\n",
       "      <td>1251.000000</td>\n",
       "      <td>1251.000000</td>\n",
       "      <td>1251.000000</td>\n",
       "    </tr>\n",
       "    <tr>\n",
       "      <th>mean</th>\n",
       "      <td>626.000000</td>\n",
       "      <td>198.539568</td>\n",
       "      <td>176.845723</td>\n",
       "      <td>21.693845</td>\n",
       "    </tr>\n",
       "    <tr>\n",
       "      <th>std</th>\n",
       "      <td>361.276902</td>\n",
       "      <td>156.534195</td>\n",
       "      <td>115.612080</td>\n",
       "      <td>59.671955</td>\n",
       "    </tr>\n",
       "    <tr>\n",
       "      <th>min</th>\n",
       "      <td>1.000000</td>\n",
       "      <td>5.000000</td>\n",
       "      <td>5.000000</td>\n",
       "      <td>0.000000</td>\n",
       "    </tr>\n",
       "    <tr>\n",
       "      <th>25%</th>\n",
       "      <td>313.500000</td>\n",
       "      <td>123.000000</td>\n",
       "      <td>114.000000</td>\n",
       "      <td>3.000000</td>\n",
       "    </tr>\n",
       "    <tr>\n",
       "      <th>50%</th>\n",
       "      <td>626.000000</td>\n",
       "      <td>177.000000</td>\n",
       "      <td>166.000000</td>\n",
       "      <td>8.000000</td>\n",
       "    </tr>\n",
       "    <tr>\n",
       "      <th>75%</th>\n",
       "      <td>938.500000</td>\n",
       "      <td>233.000000</td>\n",
       "      <td>214.500000</td>\n",
       "      <td>16.000000</td>\n",
       "    </tr>\n",
       "    <tr>\n",
       "      <th>max</th>\n",
       "      <td>1251.000000</td>\n",
       "      <td>1575.000000</td>\n",
       "      <td>909.000000</td>\n",
       "      <td>704.000000</td>\n",
       "    </tr>\n",
       "  </tbody>\n",
       "</table>\n",
       "</div>"
      ],
      "text/plain": [
       "             Index  Incoming Calls  Answered Calls  Abandoned Calls\n",
       "count  1251.000000     1251.000000     1251.000000      1251.000000\n",
       "mean    626.000000      198.539568      176.845723        21.693845\n",
       "std     361.276902      156.534195      115.612080        59.671955\n",
       "min       1.000000        5.000000        5.000000         0.000000\n",
       "25%     313.500000      123.000000      114.000000         3.000000\n",
       "50%     626.000000      177.000000      166.000000         8.000000\n",
       "75%     938.500000      233.000000      214.500000        16.000000\n",
       "max    1251.000000     1575.000000      909.000000       704.000000"
      ]
     },
     "execution_count": 78,
     "metadata": {},
     "output_type": "execute_result"
    }
   ],
   "source": [
    "data.describe()"
   ]
  },
  {
   "cell_type": "code",
   "execution_count": 79,
   "id": "ad246d5f-f13c-4838-8c3d-35653eddec89",
   "metadata": {},
   "outputs": [
    {
     "data": {
      "text/plain": [
       "Index                         0\n",
       "Incoming Calls                0\n",
       "Answered Calls                0\n",
       "Answer Rate                   0\n",
       "Abandoned Calls               0\n",
       "Answer Speed (AVG)            0\n",
       "Talk Duration (AVG)           0\n",
       "Waiting Time (AVG)            0\n",
       "Service Level (20 Seconds)    0\n",
       "dtype: int64"
      ]
     },
     "execution_count": 79,
     "metadata": {},
     "output_type": "execute_result"
    }
   ],
   "source": [
    "# Check for nulls in the data\n",
    "data.isnull().sum()"
   ]
  },
  {
   "cell_type": "code",
   "execution_count": 80,
   "id": "d2c38ade-7618-454e-94f9-1a8f637d8cee",
   "metadata": {},
   "outputs": [
    {
     "name": "stdout",
     "output_type": "stream",
     "text": [
      "<class 'pandas.core.frame.DataFrame'>\n",
      "RangeIndex: 1251 entries, 0 to 1250\n",
      "Data columns (total 9 columns):\n",
      " #   Column                      Non-Null Count  Dtype \n",
      "---  ------                      --------------  ----- \n",
      " 0   Index                       1251 non-null   int64 \n",
      " 1   Incoming Calls              1251 non-null   int64 \n",
      " 2   Answered Calls              1251 non-null   int64 \n",
      " 3   Answer Rate                 1251 non-null   object\n",
      " 4   Abandoned Calls             1251 non-null   int64 \n",
      " 5   Answer Speed (AVG)          1251 non-null   object\n",
      " 6   Talk Duration (AVG)         1251 non-null   object\n",
      " 7   Waiting Time (AVG)          1251 non-null   object\n",
      " 8   Service Level (20 Seconds)  1251 non-null   object\n",
      "dtypes: int64(4), object(5)\n",
      "memory usage: 88.1+ KB\n"
     ]
    }
   ],
   "source": [
    "# Get the data types\n",
    "data.info()"
   ]
  },
  {
   "cell_type": "markdown",
   "id": "c4a12fd6-f996-4d3f-82c2-c5ec8b048b54",
   "metadata": {},
   "source": [
    "### Data Processing & Cleansing"
   ]
  },
  {
   "cell_type": "code",
   "execution_count": 81,
   "id": "8f3e2ce7-eb5e-41d5-9b03-cb9ce7d37fa3",
   "metadata": {},
   "outputs": [],
   "source": [
    "# Convert percentages to float\n",
    "data['Answer Rate'] = data['Answer Rate'].str.rstrip('%').astype('float') / 100.0\n",
    "data['Service Level (20 Seconds)'] = data['Service Level (20 Seconds)'].str.rstrip('%').astype('float') / 100.0"
   ]
  },
  {
   "cell_type": "code",
   "execution_count": 73,
   "id": "41afa3fd-4bb1-4277-8c29-879159d7dea3",
   "metadata": {},
   "outputs": [],
   "source": [
    "# # Convert the h:mm:ss columns into datetime type\n",
    "# data['Answer Speed (AVG)'] = data['Answer Speed (AVG)'].apply(pd.to_datetime, format='%H:%M:%S', errors='coerce',utc= False).dt.time\n",
    "# data['Talk Duration (AVG)'] = data['Talk Duration (AVG)'].apply(pd.to_datetime, format='%H:%M:%S', errors='coerce',utc= False).dt.time\n",
    "# data['Waiting Time (AVG)'] = data['Talk Duration (AVG)'].apply(pd.to_datetime, format='%H:%M:%S', errors='coerce',utc= False).dt.time"
   ]
  },
  {
   "cell_type": "code",
   "execution_count": 91,
   "id": "c935b5a7-2596-4936-a4b2-6ef9c3e91635",
   "metadata": {},
   "outputs": [],
   "source": [
    "# Get the total seconds for the times\n",
    "data['Avg Answer Speed (sec)'] = pd.to_timedelta(data['Answer Speed (AVG)']).dt.total_seconds()\n",
    "data['Avg Talk Duration (sec)'] = pd.to_timedelta(data['Talk Duration (AVG)']).dt.total_seconds()\n",
    "data['Avg Waiting Time (sec)'] = pd.to_timedelta(data['Waiting Time (AVG)']).dt.total_seconds()"
   ]
  },
  {
   "cell_type": "code",
   "execution_count": 93,
   "id": "cac4695f-20e7-4df5-8284-8686857eb726",
   "metadata": {},
   "outputs": [],
   "source": [
    "data.drop(columns=['Answer Speed (AVG)','Talk Duration (AVG)','Waiting Time (AVG)'],inplace=True)"
   ]
  },
  {
   "cell_type": "code",
   "execution_count": 97,
   "id": "6b35a01f-38d8-465e-8c9f-c36d530c1875",
   "metadata": {},
   "outputs": [
    {
     "data": {
      "text/html": [
       "<div>\n",
       "<style scoped>\n",
       "    .dataframe tbody tr th:only-of-type {\n",
       "        vertical-align: middle;\n",
       "    }\n",
       "\n",
       "    .dataframe tbody tr th {\n",
       "        vertical-align: top;\n",
       "    }\n",
       "\n",
       "    .dataframe thead th {\n",
       "        text-align: right;\n",
       "    }\n",
       "</style>\n",
       "<table border=\"1\" class=\"dataframe\">\n",
       "  <thead>\n",
       "    <tr style=\"text-align: right;\">\n",
       "      <th></th>\n",
       "      <th>Index</th>\n",
       "      <th>Incoming Calls</th>\n",
       "      <th>Answered Calls</th>\n",
       "      <th>Answer Rate</th>\n",
       "      <th>Abandoned Calls</th>\n",
       "      <th>Service Level (20 Seconds)</th>\n",
       "      <th>Avg Answer Speed (sec)</th>\n",
       "      <th>Avg Talk Duration (sec)</th>\n",
       "      <th>Avg Waiting Time (sec)</th>\n",
       "    </tr>\n",
       "  </thead>\n",
       "  <tbody>\n",
       "    <tr>\n",
       "      <th>0</th>\n",
       "      <td>1</td>\n",
       "      <td>217</td>\n",
       "      <td>204</td>\n",
       "      <td>0.9401</td>\n",
       "      <td>13</td>\n",
       "      <td>0.7628</td>\n",
       "      <td>17.0</td>\n",
       "      <td>134.0</td>\n",
       "      <td>165.0</td>\n",
       "    </tr>\n",
       "    <tr>\n",
       "      <th>1</th>\n",
       "      <td>2</td>\n",
       "      <td>200</td>\n",
       "      <td>182</td>\n",
       "      <td>0.9100</td>\n",
       "      <td>18</td>\n",
       "      <td>0.7273</td>\n",
       "      <td>20.0</td>\n",
       "      <td>142.0</td>\n",
       "      <td>415.0</td>\n",
       "    </tr>\n",
       "    <tr>\n",
       "      <th>2</th>\n",
       "      <td>3</td>\n",
       "      <td>216</td>\n",
       "      <td>198</td>\n",
       "      <td>0.9167</td>\n",
       "      <td>18</td>\n",
       "      <td>0.7430</td>\n",
       "      <td>18.0</td>\n",
       "      <td>158.0</td>\n",
       "      <td>230.0</td>\n",
       "    </tr>\n",
       "    <tr>\n",
       "      <th>3</th>\n",
       "      <td>4</td>\n",
       "      <td>155</td>\n",
       "      <td>145</td>\n",
       "      <td>0.9355</td>\n",
       "      <td>10</td>\n",
       "      <td>0.7961</td>\n",
       "      <td>15.0</td>\n",
       "      <td>149.0</td>\n",
       "      <td>192.0</td>\n",
       "    </tr>\n",
       "    <tr>\n",
       "      <th>4</th>\n",
       "      <td>5</td>\n",
       "      <td>37</td>\n",
       "      <td>37</td>\n",
       "      <td>1.0000</td>\n",
       "      <td>0</td>\n",
       "      <td>0.9730</td>\n",
       "      <td>3.0</td>\n",
       "      <td>126.0</td>\n",
       "      <td>35.0</td>\n",
       "    </tr>\n",
       "  </tbody>\n",
       "</table>\n",
       "</div>"
      ],
      "text/plain": [
       "   Index  Incoming Calls  Answered Calls  Answer Rate  Abandoned Calls  \\\n",
       "0      1             217             204       0.9401               13   \n",
       "1      2             200             182       0.9100               18   \n",
       "2      3             216             198       0.9167               18   \n",
       "3      4             155             145       0.9355               10   \n",
       "4      5              37              37       1.0000                0   \n",
       "\n",
       "   Service Level (20 Seconds)  Avg Answer Speed (sec)  \\\n",
       "0                      0.7628                    17.0   \n",
       "1                      0.7273                    20.0   \n",
       "2                      0.7430                    18.0   \n",
       "3                      0.7961                    15.0   \n",
       "4                      0.9730                     3.0   \n",
       "\n",
       "   Avg Talk Duration (sec)  Avg Waiting Time (sec)  \n",
       "0                    134.0                   165.0  \n",
       "1                    142.0                   415.0  \n",
       "2                    158.0                   230.0  \n",
       "3                    149.0                   192.0  \n",
       "4                    126.0                    35.0  "
      ]
     },
     "execution_count": 97,
     "metadata": {},
     "output_type": "execute_result"
    }
   ],
   "source": [
    "data.head()"
   ]
  },
  {
   "cell_type": "code",
   "execution_count": 101,
   "id": "4444f217-4834-48bf-acd7-d8d292b8f954",
   "metadata": {},
   "outputs": [],
   "source": [
    "data.rename(columns={'Index':'Employee ID'},inplace=True)"
   ]
  },
  {
   "cell_type": "code",
   "execution_count": 103,
   "id": "38ee375e-ff9f-4b57-8af1-9f6056a75288",
   "metadata": {},
   "outputs": [],
   "source": [
    "data.to_csv('clean_data.csv',index=False)"
   ]
  },
  {
   "cell_type": "code",
   "execution_count": null,
   "id": "197b5e03-2cd4-4509-bba8-c416b324b682",
   "metadata": {},
   "outputs": [],
   "source": []
  },
  {
   "cell_type": "code",
   "execution_count": null,
   "id": "a94cd83b-c73f-4d7e-92d3-3d3665d1340e",
   "metadata": {},
   "outputs": [],
   "source": []
  },
  {
   "cell_type": "code",
   "execution_count": null,
   "id": "48f78b7b-c211-4e38-be2b-44bd98174070",
   "metadata": {},
   "outputs": [],
   "source": []
  }
 ],
 "metadata": {
  "kernelspec": {
   "display_name": "Python 3 (ipykernel)",
   "language": "python",
   "name": "python3"
  },
  "language_info": {
   "codemirror_mode": {
    "name": "ipython",
    "version": 3
   },
   "file_extension": ".py",
   "mimetype": "text/x-python",
   "name": "python",
   "nbconvert_exporter": "python",
   "pygments_lexer": "ipython3",
   "version": "3.12.1"
  }
 },
 "nbformat": 4,
 "nbformat_minor": 5
}
